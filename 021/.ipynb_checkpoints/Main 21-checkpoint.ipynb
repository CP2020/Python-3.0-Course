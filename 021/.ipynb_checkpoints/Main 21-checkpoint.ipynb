{
 "cells": [
  {
   "cell_type": "markdown",
   "metadata": {},
   "source": [
    "# <span style='color:green;'>Exercise 021</span>\n",
    "<span style='color:red'>Break</span><br><br>\n",
    "<span style='font-size:18px;color:darkblue;'>Break:</span><span> Can be used to end a loop prematurely. when encountered inside a loop, the break statement causes the loop to finish immediately.</span><br>\n",
    "<span style='color:purple;'>Using the <b>break<b> statement outside of a loop causes an error.<span>\n",
    "<span style='display:none;'>Copyright All Rights Reserved Ramin Saljoughinejad</span>"
   ]
  },
  {
   "cell_type": "code",
   "execution_count": 1,
   "metadata": {},
   "outputs": [
    {
     "name": "stdout",
     "output_type": "stream",
     "text": [
      "10\n"
     ]
    }
   ],
   "source": [
    "x = 1\n",
    "while x:\n",
    "    if x==10:\n",
    "        break\n",
    "    x+=1\n",
    "\n",
    "print(x)"
   ]
  }
 ],
 "metadata": {
  "kernelspec": {
   "display_name": "Python 3",
   "language": "python",
   "name": "python3"
  },
  "language_info": {
   "codemirror_mode": {
    "name": "ipython",
    "version": 3
   },
   "file_extension": ".py",
   "mimetype": "text/x-python",
   "name": "python",
   "nbconvert_exporter": "python",
   "pygments_lexer": "ipython3",
   "version": "3.6.7"
  }
 },
 "nbformat": 4,
 "nbformat_minor": 2
}
