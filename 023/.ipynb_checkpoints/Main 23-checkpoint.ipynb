{
 "cells": [
  {
   "cell_type": "markdown",
   "metadata": {},
   "source": [
    "# <span style='color:green;'>Exercise 023</span>\n",
    "<span style='color:red'>Lists</span><br><br>\n",
    "<span style='color:purple;'>The first list item's index is <b>0</b>, rather than 1, as might be expected.<span>\n",
    "<span style='display:none;'>Copyright All Rights Reserved Ramin Saljoughinejad</span>"
   ]
  },
  {
   "cell_type": "code",
   "execution_count": 1,
   "metadata": {},
   "outputs": [
    {
     "name": "stdout",
     "output_type": "stream",
     "text": [
      "HP\n",
      "Lenovo\n",
      "Apple\n",
      "Alienware\n"
     ]
    }
   ],
   "source": [
    "laptop_brands = [\"HP\", \"Apple\", \"Sony\", \"Lenovo\", \"MSI\", \"Alienware\"]\n",
    "print(laptop_brands[0])\n",
    "print(laptop_brands[3])\n",
    "print(laptop_brands[1])\n",
    "print(laptop_brands[5])"
   ]
  },
  {
   "cell_type": "code",
   "execution_count": 2,
   "metadata": {},
   "outputs": [
    {
     "name": "stdout",
     "output_type": "stream",
     "text": [
      "HP\n",
      "Apple\n",
      "Sony\n",
      "Lenovo\n",
      "MSI\n",
      "Alienware\n"
     ]
    }
   ],
   "source": [
    "x = 0 \n",
    "while x<6:\n",
    "    print(laptop_brands[x])\n",
    "    x+=1"
   ]
  },
  {
   "cell_type": "code",
   "execution_count": 3,
   "metadata": {},
   "outputs": [
    {
     "data": {
      "text/plain": [
       "6"
      ]
     },
     "execution_count": 3,
     "metadata": {},
     "output_type": "execute_result"
    }
   ],
   "source": [
    "len(laptop_brands)"
   ]
  },
  {
   "cell_type": "code",
   "execution_count": 4,
   "metadata": {},
   "outputs": [
    {
     "name": "stdout",
     "output_type": "stream",
     "text": [
      "HP\n",
      "Apple\n",
      "Sony\n",
      "Lenovo\n",
      "MSI\n",
      "Alienware\n"
     ]
    }
   ],
   "source": [
    "x = 0\n",
    "while x<len(laptop_brands):\n",
    "    print(laptop_brands[x])\n",
    "    x+=1"
   ]
  },
  {
   "cell_type": "markdown",
   "metadata": {},
   "source": [
    "### Efficiency"
   ]
  },
  {
   "cell_type": "code",
   "execution_count": 5,
   "metadata": {},
   "outputs": [],
   "source": [
    "import time"
   ]
  },
  {
   "cell_type": "code",
   "execution_count": 6,
   "metadata": {},
   "outputs": [
    {
     "name": "stdout",
     "output_type": "stream",
     "text": [
      "HP\n",
      "Apple\n",
      "Sony\n",
      "Lenovo\n",
      "MSI\n",
      "Alienware\n",
      "0.015607833862304688\n"
     ]
    }
   ],
   "source": [
    "laptop_brands = [\"HP\", \"Apple\", \"Sony\", \"Lenovo\", \"MSI\", \"Alienware\"]\n",
    "start = time.time()\n",
    "x = 0\n",
    "while x<len(laptop_brands):\n",
    "    print(laptop_brands[x])\n",
    "    x+=1\n",
    "end = time.time()\n",
    "print(end-start)"
   ]
  },
  {
   "cell_type": "code",
   "execution_count": 7,
   "metadata": {},
   "outputs": [
    {
     "name": "stdout",
     "output_type": "stream",
     "text": [
      "HP\n",
      "Apple\n",
      "Sony\n",
      "Lenovo\n",
      "MSI\n",
      "Alienware\n",
      "0.0\n"
     ]
    }
   ],
   "source": [
    "laptop_brands = [\"HP\", \"Apple\", \"Sony\", \"Lenovo\", \"MSI\", \"Alienware\"]\n",
    "start = time.time()\n",
    "x = 0\n",
    "Lenght = len(laptop_brands)\n",
    "while x<Lenght:\n",
    "    print(laptop_brands[x])\n",
    "    x+=1\n",
    "end = time.time()\n",
    "print(end-start)"
   ]
  }
 ],
 "metadata": {
  "kernelspec": {
   "display_name": "Python 3",
   "language": "python",
   "name": "python3"
  },
  "language_info": {
   "codemirror_mode": {
    "name": "ipython",
    "version": 3
   },
   "file_extension": ".py",
   "mimetype": "text/x-python",
   "name": "python",
   "nbconvert_exporter": "python",
   "pygments_lexer": "ipython3",
   "version": "3.7.0"
  }
 },
 "nbformat": 4,
 "nbformat_minor": 2
}
