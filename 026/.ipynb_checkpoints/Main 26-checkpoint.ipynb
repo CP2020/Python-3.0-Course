{
 "cells": [
  {
   "cell_type": "markdown",
   "metadata": {},
   "source": [
    "# <span style='color:green;'>Exercise 026</span>\n",
    "<span style='color:red'>More into Lists - List Functions</span><br>\n",
    "<span style='display:none;'>Copyright All Rights Reserved Ramin Saljoughinejad</span>"
   ]
  },
  {
   "cell_type": "markdown",
   "metadata": {},
   "source": [
    "#### <span style='color:purple;'><span style='color:darkblue;'>Append:</span> Adding new items at the end of a <a href='../023/Main 23.ipynb'>list</a></span>"
   ]
  },
  {
   "cell_type": "code",
   "execution_count": 4,
   "metadata": {},
   "outputs": [
    {
     "name": "stdout",
     "output_type": "stream",
     "text": [
      "Before: [2, 4, 6, 8]\n",
      "After:  [2, 4, 6, 8, 9]\n"
     ]
    }
   ],
   "source": [
    "my_list = [2,4,6,8]\n",
    "print(\"Before: \" + str(my_list))\n",
    "\n",
    "my_list.append(9)\n",
    "\n",
    "print(\"After:  \" + str(my_list))"
   ]
  },
  {
   "cell_type": "markdown",
   "metadata": {},
   "source": [
    "#### <span style='color:purple;'><span style='color:darkblue;'>Append:</span> Adding new items at any position in the <a href='../023/Main 23.ipynb'>list</a></span>"
   ]
  },
  {
   "cell_type": "code",
   "execution_count": 7,
   "metadata": {},
   "outputs": [
    {
     "name": "stdout",
     "output_type": "stream",
     "text": [
      "Before: ['Python', 'great']\n",
      "After:  ['Python', 'is', 'great']\n"
     ]
    }
   ],
   "source": [
    "my_str = [\"Python\",\"great\"]\n",
    "print(\"Before: \" + str(my_str))\n",
    "\n",
    "index = 1\n",
    "my_str.insert(index,\"is\")\n",
    "\n",
    "print(\"After:  \" + str(my_str))"
   ]
  },
  {
   "cell_type": "code",
   "execution_count": null,
   "metadata": {},
   "outputs": [],
   "source": [
    "<span style='color:purple;'><span style='color:darkblue;'>Index:</span> Returns the index of the first occurrence of a <a href='../023/Main 23.ipynb'>list</a> item.</span>"
   ]
  }
 ],
 "metadata": {
  "kernelspec": {
   "display_name": "Python 3",
   "language": "python",
   "name": "python3"
  },
  "language_info": {
   "codemirror_mode": {
    "name": "ipython",
    "version": 3
   },
   "file_extension": ".py",
   "mimetype": "text/x-python",
   "name": "python",
   "nbconvert_exporter": "python",
   "pygments_lexer": "ipython3",
   "version": "3.6.7"
  }
 },
 "nbformat": 4,
 "nbformat_minor": 2
}
