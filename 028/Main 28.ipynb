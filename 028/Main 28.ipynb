{
 "cells": [
  {
   "cell_type": "markdown",
   "metadata": {},
   "source": [
    "# <span style='color:green;'>Exercise 028</span>\n",
    "<span style='color:red'>For Loop</span><br>\n",
    "<span style='display:none;'>Copyright All Rights Reserved Ramin Saljoughinejad</span>"
   ]
  },
  {
   "cell_type": "code",
   "execution_count": 1,
   "metadata": {},
   "outputs": [
    {
     "name": "stdout",
     "output_type": "stream",
     "text": [
      "HP\n",
      "Apple\n",
      "Sony\n",
      "Lenovo\n",
      "MSI\n",
      "Alienware\n"
     ]
    }
   ],
   "source": [
    "laptop_brands = [\"HP\", \"Apple\", \"Sony\", \"Lenovo\", \"MSI\", \"Alienware\"]\n",
    "\n",
    "for item in laptop_brands:\n",
    "    print(item)"
   ]
  },
  {
   "cell_type": "code",
   "execution_count": 2,
   "metadata": {},
   "outputs": [
    {
     "name": "stdout",
     "output_type": "stream",
     "text": [
      "0 New line\n",
      "1 New line\n",
      "2 New line\n",
      "3 New line\n",
      "4 New line\n"
     ]
    }
   ],
   "source": [
    "for i in range(5):\n",
    "    print(str(i) + \" New line\")"
   ]
  },
  {
   "cell_type": "code",
   "execution_count": 3,
   "metadata": {},
   "outputs": [
    {
     "name": "stdout",
     "output_type": "stream",
     "text": [
      "0 New Line\n",
      "1 New Line\n",
      "2 New Line\n",
      "3 New Line\n",
      "4 New Line\n"
     ]
    }
   ],
   "source": [
    "for i in list(range(5)):\n",
    "    print(str(i) + \" New Line\")"
   ]
  }
 ],
 "metadata": {
  "kernelspec": {
   "display_name": "Python 3",
   "language": "python",
   "name": "python3"
  },
  "language_info": {
   "codemirror_mode": {
    "name": "ipython",
    "version": 3
   },
   "file_extension": ".py",
   "mimetype": "text/x-python",
   "name": "python",
   "nbconvert_exporter": "python",
   "pygments_lexer": "ipython3",
   "version": "3.6.7"
  }
 },
 "nbformat": 4,
 "nbformat_minor": 2
}
