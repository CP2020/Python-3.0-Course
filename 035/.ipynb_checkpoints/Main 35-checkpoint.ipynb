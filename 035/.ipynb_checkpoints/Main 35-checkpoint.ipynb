{
 "cells": [
  {
   "cell_type": "markdown",
   "metadata": {},
   "source": [
    "# <span style='color:green;'>Exercise 034</span>\n",
    "<span style='color:red'>Exceptions</span><br>\n",
    "<span>- Accures when something goes wrong, due to incorrect code or input.</span><br>\n",
    "<span>- When an exception accures, the program immediately stops.</span><br><br>\n",
    "<span>Some Exceptions:</span><br>\n",
    "<span>---------- ValueError<br>---------- TypeError<br>----------         ZeroDivisionError</span><br>\n",
    "<span style='display:none;'>Copyright All Rights Reserved Ramin Saljoughinejad</span>"
   ]
  },
  {
   "cell_type": "markdown",
   "metadata": {},
   "source": [
    "# <span style='color:purple'>Please Check <a href='../Assignments/08/Assignment 08.ipynb'>Assignment 08</a></span>"
   ]
  }
 ],
 "metadata": {
  "kernelspec": {
   "display_name": "Python 3",
   "language": "python",
   "name": "python3"
  },
  "language_info": {
   "codemirror_mode": {
    "name": "ipython",
    "version": 3
   },
   "file_extension": ".py",
   "mimetype": "text/x-python",
   "name": "python",
   "nbconvert_exporter": "python",
   "pygments_lexer": "ipython3",
   "version": "3.6.8"
  }
 },
 "nbformat": 4,
 "nbformat_minor": 2
}
