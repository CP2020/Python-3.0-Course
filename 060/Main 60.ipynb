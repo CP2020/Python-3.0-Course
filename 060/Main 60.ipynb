{
 "cells": [
  {
   "cell_type": "markdown",
   "metadata": {},
   "source": [
    "# <span style='color:green;'>Exercise 060</span>\n",
    "<span style='color:red'>Functional Programming</span><br><br>\n",
    "<span>Generators</span><br>\n",
    "<span style='color:orange'>They allow you to declare a function that behaves like an iterator, i.e. it can be used in a for loop.</span><br>\n",
    "<span style='color:red;'>You can't index generators!</span><br>\n",
    "<span style='color:blue;'>Unlike lists, generators dont have the memory restrictions, or in better words, they can be <i><b>infinite</b></i>.</span><br>\n",
    "<span style='display:none;'>Copyright All Rights Reserved Ramin Saljoughinejad</span>"
   ]
  },
  {
   "cell_type": "code",
   "execution_count": 6,
   "metadata": {},
   "outputs": [
    {
     "name": "stdout",
     "output_type": "stream",
     "text": [
      "24\n"
     ]
    }
   ],
   "source": [
    "from itertools import product, permutations\n",
    "\n",
    "letters = (\"Ali\", \"Mitra\", \"Zahra\", \"Ramin\")\n",
    "print(len(list(permutations(letters)))) "
   ]
  }
 ],
 "metadata": {
  "kernelspec": {
   "display_name": "Python 3",
   "language": "python",
   "name": "python3"
  },
  "language_info": {
   "codemirror_mode": {
    "name": "ipython",
    "version": 3
   },
   "file_extension": ".py",
   "mimetype": "text/x-python",
   "name": "python",
   "nbconvert_exporter": "python",
   "pygments_lexer": "ipython3",
   "version": "3.7.0"
  }
 },
 "nbformat": 4,
 "nbformat_minor": 2
}
