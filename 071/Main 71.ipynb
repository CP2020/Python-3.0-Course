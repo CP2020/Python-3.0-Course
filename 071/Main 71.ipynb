{
 "cells": [
  {
   "cell_type": "markdown",
   "metadata": {},
   "source": [
    "# <span style='color:green;'>Exercise 070</span>\n",
    "\n",
    "<span style='color:red'>More into classes</span><br><br>\n",
    "<span style='color:coral'>More into Magic Methods</span><br>\n",
    "<span style='color:purple;margin-left:25px;'>Python also provides magic methods for comparisons. </span><br>\n",
    "<ul>\n",
    "<li>__lt__ for <</li>\n",
    "<li>__le__ for <=</li>\n",
    "<li>__eq__ for ==</li>\n",
    "<li>__ne__ for !=</li>\n",
    "<li>__gt__ for ></li>\n",
    "<li>__ge__ for >=</li>\n",
    "</ul>\n",
    "<span style='display:none;'>Copyright All Rights Reserved Ramin Saljoughinejad</span>"
   ]
  },
  {
   "cell_type": "code",
   "execution_count": 2,
   "metadata": {},
   "outputs": [
    {
     "name": "stdout",
     "output_type": "stream",
     "text": [
      ">spam>eggs\n",
      "e>spam>ggs\n",
      "eg>spam>gs\n",
      "egg>spam>s\n",
      "eggs>spam>\n"
     ]
    }
   ],
   "source": [
    "class SpecialString:\n",
    "  def __init__(self, cont):\n",
    "    self.cont = cont\n",
    "\n",
    "  def __gt__(self, other):\n",
    "    for index in range(len(other.cont)+1):\n",
    "      result = other.cont[:index] + \">\" + self.cont\n",
    "      result += \">\" + other.cont[index:]\n",
    "      print(result)\n",
    "\n",
    "spam = SpecialString(\"spam\")\n",
    "eggs = SpecialString(\"eggs\")\n",
    "spam > eggs"
   ]
  }
 ],
 "metadata": {
  "kernelspec": {
   "display_name": "Python 3",
   "language": "python",
   "name": "python3"
  },
  "language_info": {
   "codemirror_mode": {
    "name": "ipython",
    "version": 3
   },
   "file_extension": ".py",
   "mimetype": "text/x-python",
   "name": "python",
   "nbconvert_exporter": "python",
   "pygments_lexer": "ipython3",
   "version": "3.7.3"
  }
 },
 "nbformat": 4,
 "nbformat_minor": 2
}
