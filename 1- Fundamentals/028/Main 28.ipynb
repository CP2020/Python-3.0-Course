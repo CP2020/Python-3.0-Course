{
 "cells": [
  {
   "cell_type": "markdown",
   "metadata": {},
   "source": [
    "# <span style='color:green;'>Exercise 028</span>\n",
    "<span style='color:red'>For Loop</span><br>\n",
    "<span style='display:none;'>Copyright All Rights Reserved Ramin Saljoughinejad</span>"
   ]
  },
  {
   "cell_type": "code",
   "execution_count": 1,
   "metadata": {},
   "outputs": [
    {
     "name": "stdout",
     "output_type": "stream",
     "text": [
      "HP\n",
      "Apple\n",
      "Sony\n",
      "Lenovo\n",
      "MSI\n",
      "Alienware\n"
     ]
    }
   ],
   "source": [
    "laptop_brands = [\"HP\", \"Apple\", \"Sony\", \"Lenovo\", \"MSI\", \"Alienware\"]\n",
    "\n",
    "for item in laptop_brands:\n",
    "    print(item)"
   ]
  },
  {
   "cell_type": "code",
   "execution_count": 2,
   "metadata": {},
   "outputs": [
    {
     "name": "stdout",
     "output_type": "stream",
     "text": [
      "0 New line\n",
      "1 New line\n",
      "2 New line\n",
      "3 New line\n",
      "4 New line\n"
     ]
    }
   ],
   "source": [
    "for i in range(5):\n",
    "    print(str(i) + \" New line\")"
   ]
  },
  {
   "cell_type": "code",
   "execution_count": 3,
   "metadata": {},
   "outputs": [
    {
     "name": "stdout",
     "output_type": "stream",
     "text": [
      "0 New Line\n",
      "1 New Line\n",
      "2 New Line\n",
      "3 New Line\n",
      "4 New Line\n"
     ]
    }
   ],
   "source": [
    "for i in list(range(5)):\n",
    "    print(str(i) + \" New Line\")"
   ]
  },
  {
   "cell_type": "code",
   "execution_count": 4,
   "metadata": {},
   "outputs": [
    {
     "name": "stdout",
     "output_type": "stream",
     "text": [
      "Alienware\n",
      "MSI\n",
      "Lenovo\n",
      "Sony\n",
      "Apple\n",
      "HP\n"
     ]
    }
   ],
   "source": [
    "laptop_brands = [\"HP\", \"Apple\", \"Sony\", \"Lenovo\", \"MSI\", \"Alienware\"]\n",
    "\n",
    "for i in range(5,-1,-1):\n",
    "    print(laptop_brands[i])\n"
   ]
  },
  {
   "cell_type": "code",
   "execution_count": 5,
   "metadata": {},
   "outputs": [
    {
     "name": "stdout",
     "output_type": "stream",
     "text": [
      "Please Enter a Number: 2\n",
      "Please enter a Number: 10\n",
      "1024\n"
     ]
    }
   ],
   "source": [
    "paie = int(input(\"Please Enter a Number: \"))\n",
    "tavan = int(input(\"Please enter a Number: \"))\n",
    "outer = 1\n",
    "for i in range(tavan):\n",
    "    outer*=paie\n",
    "    \n",
    "print(outer)"
   ]
  },
  {
   "cell_type": "code",
   "execution_count": 6,
   "metadata": {},
   "outputs": [
    {
     "name": "stdout",
     "output_type": "stream",
     "text": [
      "Please Enter a Number: 5\n",
      "120\n"
     ]
    }
   ],
   "source": [
    "x = int(input(\"Please Enter a Number: \"))\n",
    "f=1\n",
    "for i in range(1,x+1):\n",
    "    f*=i\n",
    "print(f)"
   ]
  },
  {
   "cell_type": "code",
   "execution_count": 7,
   "metadata": {},
   "outputs": [
    {
     "name": "stdout",
     "output_type": "stream",
     "text": [
      "Please Enter a Number: 7\n",
      "1  +  1  =  2\n",
      "1  +  2  =  3\n",
      "2  +  3  =  5\n",
      "3  +  5  =  8\n",
      "5  +  8  =  13\n"
     ]
    }
   ],
   "source": [
    "x = int(input(\"Please Enter a Number: \"))\n",
    "\n",
    "pre = cur = 1\n",
    "\n",
    "for i in range(x-2):\n",
    "    Next = pre+cur\n",
    "    print(pre, \" + \", cur, \" = \", Next)\n",
    "    pre = cur\n",
    "    cur = Next"
   ]
  }
 ],
 "metadata": {
  "kernelspec": {
   "display_name": "Python 3",
   "language": "python",
   "name": "python3"
  },
  "language_info": {
   "codemirror_mode": {
    "name": "ipython",
    "version": 3
   },
   "file_extension": ".py",
   "mimetype": "text/x-python",
   "name": "python",
   "nbconvert_exporter": "python",
   "pygments_lexer": "ipython3",
   "version": "3.7.3"
  }
 },
 "nbformat": 4,
 "nbformat_minor": 2
}
