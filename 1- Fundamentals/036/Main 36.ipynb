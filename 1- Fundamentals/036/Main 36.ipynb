{
 "cells": [
  {
   "cell_type": "markdown",
   "metadata": {},
   "source": [
    "# <span style='color:green;'>Exercise 036</span>\n",
    "<span style='color:red'>More into Exception Handling</span><br><br>\n",
    "<span>Multiply Except Statement</span><br>\n",
    "<span style='display:none;'>Copyright All Rights Reserved Ramin Saljoughinejad</span>"
   ]
  },
  {
   "cell_type": "code",
   "execution_count": 1,
   "metadata": {},
   "outputs": [
    {
     "name": "stdout",
     "output_type": "stream",
     "text": [
      "Please Enter a number:5\n",
      "Please Enter a number:0\n",
      "Error: Division By Zero\n"
     ]
    }
   ],
   "source": [
    "try:\n",
    "    x = float(input(\"Please Enter a number:\"))\n",
    "    y = float(input(\"Please Enter a number:\"))\n",
    "    print(x/y)\n",
    "except ValueError:\n",
    "    print(\"Error: Numbers are Only allowed.\")\n",
    "except ZeroDivisionError:\n",
    "    print(\"Error: Division By Zero\")"
   ]
  },
  {
   "cell_type": "markdown",
   "metadata": {},
   "source": [
    "#### <span style='color:purple;'>Handling All Exceptions</span>"
   ]
  },
  {
   "cell_type": "code",
   "execution_count": 2,
   "metadata": {},
   "outputs": [
    {
     "name": "stdout",
     "output_type": "stream",
     "text": [
      "Please Enter a number:8\n",
      "Please Enter a number:h\n",
      "An Error Accurated\n"
     ]
    }
   ],
   "source": [
    "try:\n",
    "    x = float(input(\"Please Enter a number:\"))\n",
    "    y = float(input(\"Please Enter a number:\"))\n",
    "    print(x/y)\n",
    "except:\n",
    "    print(\"An Error Accurated\")"
   ]
  }
 ],
 "metadata": {
  "kernelspec": {
   "display_name": "Python 3",
   "language": "python",
   "name": "python3"
  },
  "language_info": {
   "codemirror_mode": {
    "name": "ipython",
    "version": 3
   },
   "file_extension": ".py",
   "mimetype": "text/x-python",
   "name": "python",
   "nbconvert_exporter": "python",
   "pygments_lexer": "ipython3",
   "version": "3.7.3"
  }
 },
 "nbformat": 4,
 "nbformat_minor": 2
}
