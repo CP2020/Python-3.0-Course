{
 "cells": [
  {
   "cell_type": "markdown",
   "metadata": {},
   "source": [
    "# <span style='color:green;'>Exercise 062</span>\n",
    "\n",
    "<span style='color:red'>More into Decorators</span><br><br>\n",
    "\n",
    "<span style='display:none;'>Copyright All Rights Reserved Ramin Saljoughinejad</span>"
   ]
  },
  {
   "cell_type": "code",
   "execution_count": 1,
   "metadata": {},
   "outputs": [
    {
     "name": "stdout",
     "output_type": "stream",
     "text": [
      "*********************\n",
      "    Hello, Class\n",
      "*********************\n"
     ]
    }
   ],
   "source": [
    "def decor(func):\n",
    "    def wrap():\n",
    "        print(\"*********************\")\n",
    "        func()\n",
    "        print(\"*********************\")\n",
    "    return wrap\n",
    "\n",
    "def printHelloClass():\n",
    "    print(\"    Hello, Class\")\n",
    "    \n",
    "printHelloClass = decor(printHelloClass)\n",
    "\n",
    "printHelloClass()"
   ]
  },
  {
   "cell_type": "code",
   "execution_count": 2,
   "metadata": {},
   "outputs": [
    {
     "name": "stdout",
     "output_type": "stream",
     "text": [
      "**********************\n",
      "    Bye Bye, Class\n",
      "**********************\n"
     ]
    }
   ],
   "source": [
    "def decor(func):\n",
    "    def wrap():\n",
    "        print(\"**********************\")\n",
    "        func()\n",
    "        print(\"**********************\")\n",
    "    return wrap\n",
    "\n",
    "@decor\n",
    "def printByeByeClass():\n",
    "    print(\"    Bye Bye, Class\")\n",
    "    \n",
    "    \n",
    "printByeByeClass()"
   ]
  }
 ],
 "metadata": {
  "kernelspec": {
   "display_name": "Python 3",
   "language": "python",
   "name": "python3"
  },
  "language_info": {
   "codemirror_mode": {
    "name": "ipython",
    "version": 3
   },
   "file_extension": ".py",
   "mimetype": "text/x-python",
   "name": "python",
   "nbconvert_exporter": "python",
   "pygments_lexer": "ipython3",
   "version": "3.7.3"
  }
 },
 "nbformat": 4,
 "nbformat_minor": 2
}
