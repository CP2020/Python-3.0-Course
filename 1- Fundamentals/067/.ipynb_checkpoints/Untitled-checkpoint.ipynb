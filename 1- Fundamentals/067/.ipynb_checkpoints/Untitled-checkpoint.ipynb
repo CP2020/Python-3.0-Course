{
 "cells": [
  {
   "cell_type": "code",
   "execution_count": 1,
   "metadata": {},
   "outputs": [
    {
     "ename": "SyntaxError",
     "evalue": "unexpected EOF while parsing (<ipython-input-1-b6ff5dd2a008>, line 1)",
     "output_type": "error",
     "traceback": [
      "\u001b[1;36m  File \u001b[1;32m\"<ipython-input-1-b6ff5dd2a008>\"\u001b[1;36m, line \u001b[1;32m1\u001b[0m\n\u001b[1;33m    class Car:\u001b[0m\n\u001b[1;37m              ^\u001b[0m\n\u001b[1;31mSyntaxError\u001b[0m\u001b[1;31m:\u001b[0m unexpected EOF while parsing\n"
     ]
    }
   ],
   "source": [
    "class Car:\n",
    "    engineStatus = \"OFF\"\n",
    "    currentSpeed = 0\n",
    "    def __init__(self,doors,color,maxSpeed,model):\n",
    "        self.doors = doors\n",
    "        self.color = color\n",
    "        self.maxSpeed = maxSpeed\n",
    "        self.model = model\n",
    "    def engStart(self):\n",
    "        if self.engineStatus == \"OFF\":\n",
    "            self.engineStatus = \"ON\"\n",
    "            print(\"GHUM GHUM\")\n",
    "        else:\n",
    "            print(\"gheeeeeeej\")\n",
    "    def speedUP(self):\n",
    "        if self.engineStatus ==\"ON\":\n",
    "            if self.currentSpeed < self.maxSpeed:\n",
    "                self.currentSpeed +=10\n",
    "            else:\n",
    "                print(\"BOOOM\")\n",
    "        else:\n",
    "            print(\"You can't Speedup while your car is OFF\")\n",
    "    def engStop(self):\n",
    "        if self.currentSpeed == 0:\n",
    "            self.engineStatus = \"OFF\"\n",
    "            print(\"You just turned OFF you car\")"
   ]
  },
  {
   "cell_type": "code",
   "execution_count": null,
   "metadata": {},
   "outputs": [],
   "source": []
  }
 ],
 "metadata": {
  "kernelspec": {
   "display_name": "Python 3",
   "language": "python",
   "name": "python3"
  },
  "language_info": {
   "codemirror_mode": {
    "name": "ipython",
    "version": 3
   },
   "file_extension": ".py",
   "mimetype": "text/x-python",
   "name": "python",
   "nbconvert_exporter": "python",
   "pygments_lexer": "ipython3",
   "version": "3.7.3"
  }
 },
 "nbformat": 4,
 "nbformat_minor": 2
}
