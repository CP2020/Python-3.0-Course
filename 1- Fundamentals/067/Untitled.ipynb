{
 "cells": [
  {
   "cell_type": "code",
   "execution_count": 4,
   "metadata": {},
   "outputs": [],
   "source": [
    "class Car:\n",
    "    engineStatus = \"OFF\"\n",
    "    currentSpeed = 0\n",
    "    def __init__(self,doors,color,maxSpeed,model):\n",
    "        self.doors = doors\n",
    "        self.color = color\n",
    "        self.maxSpeed = maxSpeed\n",
    "        self.model = model\n",
    "    def engStart(self):\n",
    "        if self.engineStatus == \"OFF\":\n",
    "            self.engineStatus = \"ON\"\n",
    "            print(\"GHUM GHUM\")\n",
    "        else:\n",
    "            print(\"gheeeeeeej\")\n",
    "    def speedUP(self):\n",
    "        if self.engineStatus ==\"ON\":\n",
    "            if self.currentSpeed < self.maxSpeed:\n",
    "                self.currentSpeed +=10\n",
    "                print(\"Your Current speed is: \",self.currentSpeed)\n",
    "            else:\n",
    "                print(\"BOOOM\")\n",
    "        else:\n",
    "            print(\"You can't Speedup while your car is OFF\")\n",
    "    def engStop(self):\n",
    "        if self.engineStatus == \"ON\":\n",
    "            if self.currentSpeed == 0:\n",
    "                self.engineStatus = \"OFF\"\n",
    "                print(\"You just turned OFF you car\")\n",
    "            else:\n",
    "                print(\"You need to stop your car first.\")\n",
    "        else:\n",
    "            print(\"Your car is already OFF!\")\n",
    "    def speedDown(self):\n",
    "        if self.engineStatus == \"ON\":\n",
    "            if self.currentSpeed > 0:\n",
    "                self.currentSpeed -= 10\n",
    "                print(\"Your current speed is: \",self.currentSpeed)\n",
    "            else:\n",
    "                print(\"Your car is Parked.\")\n",
    "        else:\n",
    "            print(\"Your car is OFF!\")"
   ]
  },
  {
   "cell_type": "code",
   "execution_count": 5,
   "metadata": {},
   "outputs": [],
   "source": [
    "pride = Car(4,\"white\",80,\"132\")"
   ]
  },
  {
   "cell_type": "code",
   "execution_count": 6,
   "metadata": {},
   "outputs": [
    {
     "name": "stdout",
     "output_type": "stream",
     "text": [
      "Your car is already OFF!\n"
     ]
    }
   ],
   "source": [
    "pride.engStop()"
   ]
  },
  {
   "cell_type": "code",
   "execution_count": 7,
   "metadata": {},
   "outputs": [
    {
     "data": {
      "text/plain": [
       "0"
      ]
     },
     "execution_count": 7,
     "metadata": {},
     "output_type": "execute_result"
    }
   ],
   "source": [
    "pride.currentSpeed"
   ]
  },
  {
   "cell_type": "code",
   "execution_count": 8,
   "metadata": {},
   "outputs": [
    {
     "name": "stdout",
     "output_type": "stream",
     "text": [
      "GHUM GHUM\n"
     ]
    }
   ],
   "source": [
    "pride.engStart()"
   ]
  },
  {
   "cell_type": "code",
   "execution_count": 9,
   "metadata": {},
   "outputs": [
    {
     "data": {
      "text/plain": [
       "'ON'"
      ]
     },
     "execution_count": 9,
     "metadata": {},
     "output_type": "execute_result"
    }
   ],
   "source": [
    "pride.engineStatus"
   ]
  },
  {
   "cell_type": "code",
   "execution_count": 38,
   "metadata": {},
   "outputs": [
    {
     "name": "stdout",
     "output_type": "stream",
     "text": [
      "BOOOM\n"
     ]
    }
   ],
   "source": [
    "pride.speedUP()"
   ]
  },
  {
   "cell_type": "code",
   "execution_count": 17,
   "metadata": {},
   "outputs": [
    {
     "name": "stdout",
     "output_type": "stream",
     "text": [
      "You need to stop your car first.\n"
     ]
    }
   ],
   "source": [
    "pride.engStop()"
   ]
  },
  {
   "cell_type": "code",
   "execution_count": 25,
   "metadata": {},
   "outputs": [
    {
     "name": "stdout",
     "output_type": "stream",
     "text": [
      "Your car is Parked.\n"
     ]
    }
   ],
   "source": [
    "pride.speedDown()"
   ]
  },
  {
   "cell_type": "code",
   "execution_count": 26,
   "metadata": {},
   "outputs": [
    {
     "name": "stdout",
     "output_type": "stream",
     "text": [
      "You just turned OFF you car\n"
     ]
    }
   ],
   "source": [
    "pride.engStop()"
   ]
  },
  {
   "cell_type": "code",
   "execution_count": 28,
   "metadata": {},
   "outputs": [
    {
     "name": "stdout",
     "output_type": "stream",
     "text": [
      "gheeeeeeej\n"
     ]
    }
   ],
   "source": [
    "pride.engStart()"
   ]
  },
  {
   "cell_type": "code",
   "execution_count": null,
   "metadata": {},
   "outputs": [],
   "source": []
  }
 ],
 "metadata": {
  "kernelspec": {
   "display_name": "Python 3",
   "language": "python",
   "name": "python3"
  },
  "language_info": {
   "codemirror_mode": {
    "name": "ipython",
    "version": 3
   },
   "file_extension": ".py",
   "mimetype": "text/x-python",
   "name": "python",
   "nbconvert_exporter": "python",
   "pygments_lexer": "ipython3",
   "version": "3.7.3"
  }
 },
 "nbformat": 4,
 "nbformat_minor": 2
}
