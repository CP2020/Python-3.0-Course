{
 "cells": [
  {
   "cell_type": "markdown",
   "metadata": {},
   "source": [
    "# <span style='color:green;'>Exercise 06</span>\n",
    "\n",
    "<span style='color:red'>More into classes</span><br><br>\n",
    "<span style='color:coral'>Inheritance</span><br>\n",
    "<span>Inheritance provides a way to share functionality between classes. </span>\n",
    "\n",
    "<span style='display:none;'>Copyright All Rights Reserved Ramin Saljoughinejad</span>"
   ]
  },
  {
   "cell_type": "code",
   "execution_count": 1,
   "metadata": {},
   "outputs": [],
   "source": [
    "class Animal: \n",
    "  def __init__(self, name, color):\n",
    "    self.name = name\n",
    "    self.color = color\n",
    "\n",
    "class Cat(Animal):\n",
    "  def purr(self):\n",
    "    print(\"Purr...\")\n",
    "        \n",
    "class Dog(Animal):\n",
    "  def bark(self):\n",
    "    print(\"Woof!\")"
   ]
  },
  {
   "cell_type": "code",
   "execution_count": 2,
   "metadata": {},
   "outputs": [
    {
     "name": "stdout",
     "output_type": "stream",
     "text": [
      "brown\n",
      "Woof!\n"
     ]
    }
   ],
   "source": [
    "fido = Dog(\"Fido\", \"brown\")\n",
    "print(fido.color)\n",
    "fido.bark()"
   ]
  }
 ],
 "metadata": {
  "kernelspec": {
   "display_name": "Python 3",
   "language": "python",
   "name": "python3"
  },
  "language_info": {
   "codemirror_mode": {
    "name": "ipython",
    "version": 3
   },
   "file_extension": ".py",
   "mimetype": "text/x-python",
   "name": "python",
   "nbconvert_exporter": "python",
   "pygments_lexer": "ipython3",
   "version": "3.7.3"
  }
 },
 "nbformat": 4,
 "nbformat_minor": 2
}
