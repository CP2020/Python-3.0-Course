{
 "cells": [
  {
   "cell_type": "markdown",
   "metadata": {},
   "source": [
    "# <span style='color:green;'>Exercise 069</span>\n",
    "\n",
    "<span style='color:red'>More into classes</span><br><br>\n",
    "<span style='color:coral'>Inheritance</span><br>\n",
    "<span style='color:purple;margin-left:25px;'>Inheritance can also be indirect. One class can inherit from another, and that class can inherit from a third class. </span><br>\n",
    "\n",
    "<span style='display:none;'>Copyright All Rights Reserved Ramin Saljoughinejad</span>"
   ]
  },
  {
   "cell_type": "code",
   "execution_count": 1,
   "metadata": {},
   "outputs": [
    {
     "name": "stdout",
     "output_type": "stream",
     "text": [
      "A method\n",
      "B method\n",
      "C method\n"
     ]
    }
   ],
   "source": [
    "class A:\n",
    "  def method(self):\n",
    "    print(\"A method\")\n",
    "    \n",
    "class B(A):\n",
    "  def another_method(self):\n",
    "    print(\"B method\")\n",
    "    \n",
    "class C(B):\n",
    "  def third_method(self):\n",
    "    print(\"C method\")\n",
    "    \n",
    "c = C()\n",
    "c.method()\n",
    "c.another_method()\n",
    "c.third_method()"
   ]
  },
  {
   "cell_type": "markdown",
   "metadata": {},
   "source": [
    "### <span style='color:purple'>The function super is a useful inheritance-related function that refers to the parent class. It can be used to find the method with a certain name in an object's superclass.</span>"
   ]
  },
  {
   "cell_type": "code",
   "execution_count": 2,
   "metadata": {},
   "outputs": [
    {
     "name": "stdout",
     "output_type": "stream",
     "text": [
      "2\n",
      "1\n"
     ]
    }
   ],
   "source": [
    "class A:\n",
    "  def spam(self):\n",
    "    print(1)\n",
    "\n",
    "class B(A):\n",
    "  def spam(self):\n",
    "    print(2)\n",
    "    super().spam()\n",
    "            \n",
    "B().spam()"
   ]
  }
 ],
 "metadata": {
  "kernelspec": {
   "display_name": "Python 3",
   "language": "python",
   "name": "python3"
  },
  "language_info": {
   "codemirror_mode": {
    "name": "ipython",
    "version": 3
   },
   "file_extension": ".py",
   "mimetype": "text/x-python",
   "name": "python",
   "nbconvert_exporter": "python",
   "pygments_lexer": "ipython3",
   "version": "3.7.3"
  }
 },
 "nbformat": 4,
 "nbformat_minor": 2
}
