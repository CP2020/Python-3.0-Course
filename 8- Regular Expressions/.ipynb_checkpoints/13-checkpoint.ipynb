{
 "cells": [
  {
   "cell_type": "markdown",
   "metadata": {},
   "source": [
    "# <Span style='color:blue'>More Metacharacters</span>\n",
    "<span>Some more metacharacters are <span style='color:red;'>*</span>, <span style='color:red;'>+</span>, <span style='color:red;'>?</span>, <span style='color:red;'>{</span> and <span style='color:red;'>}</span>.<br> these specify number of repetitions.<br> the metacharacter <span style='color:green;font-weight:bold;'> ? </span> means <span style='color:green'>\"Zero or one repetition\"</span>.</span>"
   ]
  },
  {
   "cell_type": "code",
   "execution_count": null,
   "metadata": {},
   "outputs": [],
   "source": []
  }
 ],
 "metadata": {
  "kernelspec": {
   "display_name": "Python 3",
   "language": "python",
   "name": "python3"
  },
  "language_info": {
   "codemirror_mode": {
    "name": "ipython",
    "version": 3
   },
   "file_extension": ".py",
   "mimetype": "text/x-python",
   "name": "python",
   "nbconvert_exporter": "python",
   "pygments_lexer": "ipython3",
   "version": "3.7.3"
  }
 },
 "nbformat": 4,
 "nbformat_minor": 2
}
