{
 "cells": [
  {
   "cell_type": "markdown",
   "metadata": {},
   "source": [
    "# <span style='color:blue'>Special Sequences</span><br>\n",
    "<span style='margin-left:10px;color:blue'>there are various special sequences you can use in regular expressions. they are written as a backslash followed by another character.</span><br>\n",
    "<span style=''></span>"
   ]
  },
  {
   "cell_type": "code",
   "execution_count": 1,
   "metadata": {},
   "outputs": [],
   "source": [
    "import re"
   ]
  },
  {
   "cell_type": "code",
   "execution_count": null,
   "metadata": {},
   "outputs": [],
   "source": [
    "pattern = r\"(.+)\\1\"\n",
    "\n",
    "match = re.match(pattern, \"word word\")\n",
    "if match:\n",
    "    print(\"Match 1\")\n",
    "    \n",
    "\n",
    "match = re.match(pattern, \"?! ?!\"):\n",
    "if match:\n",
    "    print(\"Match 2\")\n",
    "    \n",
    "\n",
    "match = re.match(pattern, \"abc abc\"):\n",
    "if match:\n",
    "    print(\"Match 3\")"
   ]
  }
 ],
 "metadata": {
  "kernelspec": {
   "display_name": "Python 3",
   "language": "python",
   "name": "python3"
  },
  "language_info": {
   "codemirror_mode": {
    "name": "ipython",
    "version": 3
   },
   "file_extension": ".py",
   "mimetype": "text/x-python",
   "name": "python",
   "nbconvert_exporter": "python",
   "pygments_lexer": "ipython3",
   "version": "3.7.3"
  }
 },
 "nbformat": 4,
 "nbformat_minor": 2
}
