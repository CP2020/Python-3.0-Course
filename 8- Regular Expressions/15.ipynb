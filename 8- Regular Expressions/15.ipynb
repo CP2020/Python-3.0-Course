{
 "cells": [
  {
   "cell_type": "code",
   "execution_count": 1,
   "metadata": {},
   "outputs": [],
   "source": [
    "import re"
   ]
  },
  {
   "cell_type": "code",
   "execution_count": 2,
   "metadata": {},
   "outputs": [
    {
     "name": "stdout",
     "output_type": "stream",
     "text": [
      "Match 1\n",
      "Match 2\n"
     ]
    }
   ],
   "source": [
    "pattern = r\"egg(spam)*\"\n",
    "\n",
    "if re.match(pattern, \"egg\"):\n",
    "    print(\"Match 1\")\n",
    "\n",
    "if re.match(pattern, \"eggspamspamspamegg\"):\n",
    "    print(\"Match 2\")\n",
    "\n",
    "if re.match(pattern, \"spam\"):\n",
    "    print(\"Match 3\")"
   ]
  },
  {
   "cell_type": "code",
   "execution_count": 3,
   "metadata": {},
   "outputs": [
    {
     "name": "stdout",
     "output_type": "stream",
     "text": [
      "abcdefghi\n",
      "abcdefghi\n",
      "bc\n",
      "de\n",
      "('bc', 'de', 'fgh', 'g')\n"
     ]
    }
   ],
   "source": [
    "pattern = r\"a(bc)(de)(f(g)h)i\"\n",
    "\n",
    "match = re.match(pattern, \"abcdefghijklmnop\")\n",
    "\n",
    "if match:\n",
    "    print(match.group())\n",
    "    print(match.group(0))\n",
    "    print(match.group(1))\n",
    "    print(match.group(2))\n",
    "    print(match.groups())"
   ]
  }
 ],
 "metadata": {
  "kernelspec": {
   "display_name": "Python 3",
   "language": "python",
   "name": "python3"
  },
  "language_info": {
   "codemirror_mode": {
    "name": "ipython",
    "version": 3
   },
   "file_extension": ".py",
   "mimetype": "text/x-python",
   "name": "python",
   "nbconvert_exporter": "python",
   "pygments_lexer": "ipython3",
   "version": "3.7.3"
  }
 },
 "nbformat": 4,
 "nbformat_minor": 2
}
