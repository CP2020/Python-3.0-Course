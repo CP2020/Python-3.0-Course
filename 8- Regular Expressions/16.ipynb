{
 "cells": [
  {
   "cell_type": "markdown",
   "metadata": {},
   "source": [
    "# Groups<br>\n",
    "<span style='font-size:1.1em;color:purple;font-weight:bold;'>Named Groups</span><br>\n",
    "<span style='margin-left:20px;color:blue;'>Named groups have the format (?P< name >...) where name is the name of the group, and ... is the content. they behave exactly the same as normal groups, exept they can be accessed by group(name) in addition to its number.<span><br><br>\n",
    "<span style='font-size:1.1em;color:purple;font-weight:bold;'>Non-Capturing Groups</span><br>\n",
    "<span style='margin-left:20px;color:blue;'>Non-capturing groups have the format (?:...). they are not accessible by the group method, so they can be added to an existing regular expression without breaking the numbering.</span>"
   ]
  },
  {
   "cell_type": "code",
   "execution_count": 1,
   "metadata": {},
   "outputs": [],
   "source": [
    "import re"
   ]
  },
  {
   "cell_type": "code",
   "execution_count": 2,
   "metadata": {},
   "outputs": [
    {
     "name": "stdout",
     "output_type": "stream",
     "text": [
      "abc\n",
      "abcdefghi\n",
      "('abc', 'ghi')\n"
     ]
    }
   ],
   "source": [
    "pattern = r\"(?P<first>abc)(?:def)(ghi)\"   ### (P<name>...)   -> is just the format!\n",
    "\n",
    "match =  re.match(pattern, \"abcdefghi\")\n",
    "\n",
    "if match:\n",
    "    print(match.group(\"first\"))\n",
    "    print(match.group())\n",
    "    print(match.groups())"
   ]
  },
  {
   "cell_type": "markdown",
   "metadata": {},
   "source": [
    "#### Excersise\n",
    "What would be the result of len(match.groups()) of match of (a)(b(?:c)(d)(?:e))?"
   ]
  }
 ],
 "metadata": {
  "kernelspec": {
   "display_name": "Python 3",
   "language": "python",
   "name": "python3"
  },
  "language_info": {
   "codemirror_mode": {
    "name": "ipython",
    "version": 3
   },
   "file_extension": ".py",
   "mimetype": "text/x-python",
   "name": "python",
   "nbconvert_exporter": "python",
   "pygments_lexer": "ipython3",
   "version": "3.7.3"
  }
 },
 "nbformat": 4,
 "nbformat_minor": 2
}
