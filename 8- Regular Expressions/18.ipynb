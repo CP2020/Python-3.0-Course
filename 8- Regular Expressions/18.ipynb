{
 "cells": [
  {
   "cell_type": "markdown",
   "metadata": {},
   "source": [
    "# <span style='color:blue'>Special Sequences</span><br>\n",
    "<span style='color:purple;'>There are various special sequences you can use in regular expressions. they are written as a backslash followed by another character.</span><br>\n",
    "<span style='color:purple;'>One useful special sequence is a backslash and a number between 1 and 99, e.g., \\1 or \\17. This matches the espression of the group that number.</span>"
   ]
  },
  {
   "cell_type": "code",
   "execution_count": 1,
   "metadata": {},
   "outputs": [],
   "source": [
    "import re"
   ]
  },
  {
   "cell_type": "code",
   "execution_count": 2,
   "metadata": {},
   "outputs": [
    {
     "name": "stdout",
     "output_type": "stream",
     "text": [
      "Match 1\n",
      "Match 2\n",
      "Match 4\n"
     ]
    }
   ],
   "source": [
    "pattern = r\"(.+) \\1\"\n",
    "\n",
    "match = re.match(pattern, \"word word\")\n",
    "if match:\n",
    "    print(\"Match 1\")\n",
    "    \n",
    "match = re.match(pattern, \"?! ?!\")\n",
    "if match:\n",
    "    print(\"Match 2\")\n",
    "    \n",
    "match = re.match(pattern, \"abc cde\")\n",
    "if match:\n",
    "    print(\"Match 3\")\n",
    "    \n",
    "match = re.match(pattern, \"abc abc abc\")\n",
    "if match:\n",
    "    print(\"Match 4\")"
   ]
  }
 ],
 "metadata": {
  "kernelspec": {
   "display_name": "Python 3",
   "language": "python",
   "name": "python3"
  },
  "language_info": {
   "codemirror_mode": {
    "name": "ipython",
    "version": 3
   },
   "file_extension": ".py",
   "mimetype": "text/x-python",
   "name": "python",
   "nbconvert_exporter": "python",
   "pygments_lexer": "ipython3",
   "version": "3.7.3"
  }
 },
 "nbformat": 4,
 "nbformat_minor": 2
}
