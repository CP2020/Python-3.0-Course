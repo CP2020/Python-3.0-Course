{
 "cells": [
  {
   "cell_type": "markdown",
   "metadata": {},
   "source": [
    "# <span style='color:blue'>Special Sequences</span><br>\n",
    "<span style='color:purple;'>More usefull special sequences are \\A, \\Z and \\b.</span>\n",
    "<span style='color:purple;'>The sequence \\Q and \\Z match the beginning and end of a string, respectively.</span><br>\n",
    "<span style='color:purple;'>The sequence \\b matches the empty string between \\w and \\W characters, or \\w characters and the beginning or end of the string. Informally, it represents the boundary between words.</span><br>\n",
    "<span style='color:purple;'>The sequence \\B matches the empty string anywhere else.</span><br>"
   ]
  },
  {
   "cell_type": "code",
   "execution_count": 1,
   "metadata": {},
   "outputs": [],
   "source": [
    "import re\n",
    "\n",
    "pattern = r\"\\b(cat)\\b\"\n",
    "\n",
    "match = re.search(pattern, \"The cat sat!\")\n",
    "if match:\n",
    "    print(\"Match 1\")\n",
    "    \n",
    "match = re.search(pattern, \"We s>cat<tered?\")\n",
    "if match:\n",
    "    print(\"Match 2\")\n",
    "    \n",
    "match  re.search(pattern, \"We scattered.\")"
   ]
  }
 ],
 "metadata": {
  "kernelspec": {
   "display_name": "Python 3",
   "language": "python",
   "name": "python3"
  },
  "language_info": {
   "codemirror_mode": {
    "name": "ipython",
    "version": 3
   },
   "file_extension": ".py",
   "mimetype": "text/x-python",
   "name": "python",
   "nbconvert_exporter": "python",
   "pygments_lexer": "ipython3",
   "version": "3.7.3"
  }
 },
 "nbformat": 4,
 "nbformat_minor": 2
}
