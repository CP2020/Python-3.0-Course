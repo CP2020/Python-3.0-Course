{
 "cells": [
  {
   "cell_type": "markdown",
   "metadata": {},
   "source": [
    "# Assignment 05\n",
    "<br>\n",
    "<span style='color:green;'>\n",
    "Write a program that takes n numbers, then prints the maximum and minimum number of those. the last number is 0. the number of variables can not be greater than 3.\n",
    "<br><br><br>\n",
    "<span dir='rtl' style='align:right;float:right;'>\n",
    "    برنامه ای بنویسید که n عدد دریافت، بزرگ ترین و کوچکترین انها را چاپ کند. اخرین عدد 0 است. تعداد متغییر های مورد استفاده نباید بیشتر از 3 باشد.\n",
    "</span>\n",
    "</span>\n",
    "<span style='display:none;'>Copyright All Rights Reserved Ramin Saljoughinejad</span>"
   ]
  },
  {
   "cell_type": "code",
   "execution_count": 1,
   "metadata": {},
   "outputs": [
    {
     "name": "stdout",
     "output_type": "stream",
     "text": [
      "Please Enter a Number:5\n",
      "Please Enter a Number:2\n",
      "Please Enter a Number:2\n",
      "Please Enter a Number:3\n",
      "Please Enter a Number:4\n",
      "Please Enter a Number:5\n",
      "Please Enter a Number:6\n",
      "Please Enter a Number:0\n",
      "Min: 2\n",
      "Max: 6\n"
     ]
    }
   ],
   "source": [
    "newNum = int(input(\"Please Enter a Number:\"))\n",
    "min = max = newNum\n",
    "while newNum:\n",
    "    if newNum<min:\n",
    "        min = newNum\n",
    "    elif newNum>max:\n",
    "        max = newNum\n",
    "    newNum = int(input(\"Please Enter a Number:\"))\n",
    "print(\"Min: \" + str(min))\n",
    "print(\"Max: \" + str(max))"
   ]
  },
  {
   "cell_type": "code",
   "execution_count": null,
   "metadata": {},
   "outputs": [],
   "source": []
  }
 ],
 "metadata": {
  "kernelspec": {
   "display_name": "Python 3",
   "language": "python",
   "name": "python3"
  },
  "language_info": {
   "codemirror_mode": {
    "name": "ipython",
    "version": 3
   },
   "file_extension": ".py",
   "mimetype": "text/x-python",
   "name": "python",
   "nbconvert_exporter": "python",
   "pygments_lexer": "ipython3",
   "version": "3.6.7"
  }
 },
 "nbformat": 4,
 "nbformat_minor": 2
}
