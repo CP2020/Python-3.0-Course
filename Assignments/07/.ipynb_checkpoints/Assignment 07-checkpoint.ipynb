{
 "cells": [
  {
   "cell_type": "markdown",
   "metadata": {},
   "source": [
    "# Assignment 07\n",
    "<br>\n",
    "<span style='color:green;'>\n",
    "Write a program that randomly prints all the numbers (int) in range of 1 to 10.<br>\n",
    "    <span style='color:red'>Note: You can only print 10 numbers and they should be all unique. (no repeated number)<span>\n",
    "<br><br><br>\n",
    "<span dir='rtl' style='align:right;float:right;'>\n",
    "برنامه ای بنویسید که تمامی اعداد بین 1 تا 10 را به صورت تصادفی چاپ کند.<br>\n",
    "    <span style='color:red;'>نکته: شما فقط می توانید 10 عدد منحصر به فرد چاپ کنید. ( اعداد تکراری نباشند )</span>\n",
    "</span>\n",
    "</span>\n",
    "<span style='display:none;'>Copyright All Rights Reserved Ramin Saljoughinejad</span>"
   ]
  },
  {
   "cell_type": "code",
   "execution_count": 2,
   "metadata": {},
   "outputs": [],
   "source": [
    "import random"
   ]
  },
  {
   "cell_type": "code",
   "execution_count": 5,
   "metadata": {},
   "outputs": [
    {
     "name": "stdout",
     "output_type": "stream",
     "text": [
      "1\n",
      "4\n",
      "5\n",
      "8\n",
      "10\n",
      "7\n",
      "9\n",
      "3\n",
      "6\n",
      "2\n"
     ]
    }
   ],
   "source": [
    "my_numbers = [0,0,0,0,0,0,0,0,0,0,0]\n",
    "counter=0\n",
    "while True:\n",
    "    newNum = random.randint(1,10)\n",
    "    if not my_numbers[newNum]:\n",
    "        my_numbers[newNum]=1\n",
    "        counter+=1\n",
    "        print(newNum)\n",
    "    if counter>9:\n",
    "        break"
   ]
  }
 ],
 "metadata": {
  "kernelspec": {
   "display_name": "Python 3",
   "language": "python",
   "name": "python3"
  },
  "language_info": {
   "codemirror_mode": {
    "name": "ipython",
    "version": 3
   },
   "file_extension": ".py",
   "mimetype": "text/x-python",
   "name": "python",
   "nbconvert_exporter": "python",
   "pygments_lexer": "ipython3",
   "version": "3.6.8"
  }
 },
 "nbformat": 4,
 "nbformat_minor": 2
}
