{
 "cells": [
  {
   "cell_type": "code",
   "execution_count": 1,
   "metadata": {},
   "outputs": [],
   "source": [
    "import random\n",
    "import numpy as np\n",
    "import matplotlib.pyplot as plt"
   ]
  },
  {
   "cell_type": "code",
   "execution_count": 2,
   "metadata": {},
   "outputs": [
    {
     "name": "stdout",
     "output_type": "stream",
     "text": [
      "Please Enter the number of queens you want: 8\n",
      "Please Enter the number of population: 500\n",
      "Please Enter the mutation rate (0-100) : 90\n",
      "Please Enter The number of epochs: 100\n"
     ]
    }
   ],
   "source": [
    "n = int(input(\"Please Enter the number of queens you want: \"))\n",
    "p = int(input(\"Please Enter the number of population: \"))\n",
    "mutation_rate = int(input(\"Please Enter the mutation rate (0-100) : \"))\n",
    "epochs = int(input(\"Please Enter The number of epochs: \"))\n",
    "\n",
    "current_generation = []\n",
    "next_generation = []"
   ]
  },
  {
   "cell_type": "code",
   "execution_count": 3,
   "metadata": {},
   "outputs": [],
   "source": [
    "def rnd_generation(p,n):\n",
    "    p_list = []\n",
    "    for i in range(p):\n",
    "        current = []\n",
    "        for i in range(n):\n",
    "            current.append(random.randint(1,n))\n",
    "        current.append(0)\n",
    "        p_list.append(current)\n",
    "    return p_list"
   ]
  },
  {
   "cell_type": "code",
   "execution_count": 4,
   "metadata": {},
   "outputs": [],
   "source": [
    "def fitness(current_generation,n,p):\n",
    "    conflict = 0\n",
    "    for i in range(p):\n",
    "        conflict = 0\n",
    "        for j in range(n):\n",
    "            for z in range(j+1,n):\n",
    "                if current_generation[i][j] == current_generation[i][z]:\n",
    "                    conflict+=1\n",
    "                if abs(j-z)==abs(current_generation[i][j]-current_generation[i][z]):\n",
    "                    conflict+=1\n",
    "        current_generation[i][8]=conflict\n",
    "\n",
    "    for i in range(p):\n",
    "        for j in range(i+1,p):\n",
    "            if current_generation[i][8]> current_generation[j][8]:\n",
    "                temp = current_generation[i]\n",
    "                current_generation[i]=current_generation[j]\n",
    "                current_generation[j]=temp\n",
    "    return current_generation"
   ]
  },
  {
   "cell_type": "code",
   "execution_count": 5,
   "metadata": {},
   "outputs": [],
   "source": [
    "def cross_over(p_list):\n",
    "    for i in range(0,(p//2)-2,2):\n",
    "        p_list[i+(p//2)]=(p_list[i][:n//2])+(p_list[i+1][n//2:n])+[0]\n",
    "        p_list[i+(p//2)+1]=(p_list[i+1][:n//2])+(p_list[i][n//2:n])+[0]\n",
    "    return p_list"
   ]
  },
  {
   "cell_type": "code",
   "execution_count": 6,
   "metadata": {},
   "outputs": [],
   "source": [
    "def mutation(p_list):\n",
    "    if mutation == 0:\n",
    "        return p_list\n",
    "    else:\n",
    "        chosen = []\n",
    "        n_rate = ((p//2)*mutation_rate)//100\n",
    "        i=0\n",
    "        while i< n_rate:\n",
    "            new_rand = random.randint((p//2),p-1)\n",
    "            if new_rand not in chosen:\n",
    "                chosen.append(new_rand)\n",
    "                i+=1\n",
    "        for i in chosen:\n",
    "            new_rand = random.randint(0,n-1)\n",
    "            p_list[i][new_rand] = random.randint(1,n)\n",
    "    return p_list"
   ]
  },
  {
   "cell_type": "code",
   "execution_count": 7,
   "metadata": {},
   "outputs": [],
   "source": [
    "def showRes(res):\n",
    "    l = len(res)\n",
    "    plt.figure(figsize=(6, 6))\n",
    "    plt.scatter([x+1 for x in range(l - 1)], res[:l - 1])\n",
    "    for i in range(l):\n",
    "        plt.plot([0.5, l - 0.5], [i + 0.5, i + 0.5], color = \"k\")\n",
    "        plt.plot([i + 0.5, i + 0.5], [0.5, l - 0.5], color = \"k\")"
   ]
  },
  {
   "cell_type": "code",
   "execution_count": 8,
   "metadata": {},
   "outputs": [
    {
     "name": "stdout",
     "output_type": "stream",
     "text": [
      "#0:\n",
      "Best Solution till this epoch is:  [4, 2, 5, 8, 1, 7, 8, 6, 2]\n"
     ]
    }
   ],
   "source": [
    "current_generation = rnd_generation(p,n)\n",
    "current_generation = fitness(current_generation,n,p)\n",
    "current_generation = cross_over(current_generation)\n",
    "current_generation = mutation(current_generation)\n",
    "current_generation = fitness(current_generation,n,p)\n",
    "print(\"#0:\")\n",
    "if current_generation[0][n] == 0:\n",
    "    print(\"Solution Found\", current_generation[0])\n",
    "else:\n",
    "    print(\"Best Solution till this epoch is: \", current_generation[0])"
   ]
  },
  {
   "cell_type": "code",
   "execution_count": 9,
   "metadata": {},
   "outputs": [
    {
     "name": "stdout",
     "output_type": "stream",
     "text": [
      "# 1 :\n",
      "Best Solution till this epoch is:  [4, 2, 5, 8, 1, 7, 8, 6, 2]\n",
      "# 2 :\n",
      "Best Solution till this epoch is:  [4, 2, 5, 8, 1, 7, 8, 6, 2]\n",
      "# 3 :\n",
      "Best Solution till this epoch is:  [4, 2, 5, 8, 1, 7, 8, 6, 2]\n",
      "# 4 :\n",
      "Best Solution till this epoch is:  [4, 2, 5, 8, 1, 7, 8, 6, 2]\n",
      "# 5 :\n",
      "Best Solution till this epoch is:  [4, 2, 5, 8, 1, 7, 8, 6, 2]\n",
      "# 6 :\n",
      "Best Solution till this epoch is:  [4, 2, 5, 8, 1, 7, 8, 6, 2]\n",
      "# 7 :\n",
      "Best Solution till this epoch is:  [4, 2, 5, 8, 1, 7, 8, 6, 2]\n",
      "# 8 :\n",
      "Best Solution till this epoch is:  [4, 2, 5, 8, 1, 7, 8, 6, 2]\n",
      "# 9 :\n",
      "Best Solution till this epoch is:  [8, 3, 1, 6, 8, 5, 7, 4, 1]\n",
      "# 10 :\n",
      "Best Solution till this epoch is:  [8, 3, 1, 6, 8, 5, 7, 4, 1]\n",
      "# 11 :\n",
      "Best Solution till this epoch is:  [8, 3, 1, 6, 8, 5, 7, 4, 1]\n",
      "# 12 :\n",
      "Best Solution till this epoch is:  [8, 3, 1, 6, 8, 5, 7, 4, 1]\n",
      "# 13 :\n",
      "Best Solution till this epoch is:  [8, 3, 1, 6, 8, 5, 7, 4, 1]\n",
      "# 14 :\n",
      "Best Solution till this epoch is:  [8, 3, 1, 6, 8, 5, 7, 4, 1]\n",
      "# 15 :\n",
      "Best Solution till this epoch is:  [8, 3, 1, 6, 8, 5, 7, 4, 1]\n",
      "# 16 :\n",
      "Best Solution till this epoch is:  [8, 3, 1, 6, 8, 5, 7, 4, 1]\n",
      "# 17 :\n",
      "Best Solution till this epoch is:  [8, 3, 1, 6, 8, 5, 7, 4, 1]\n",
      "# 18 :\n",
      "Best Solution till this epoch is:  [8, 3, 1, 6, 8, 5, 7, 4, 1]\n",
      "# 19 :\n",
      "Best Solution till this epoch is:  [8, 3, 1, 6, 8, 5, 7, 4, 1]\n",
      "# 20 :\n",
      "Best Solution till this epoch is:  [8, 3, 1, 6, 8, 5, 7, 4, 1]\n",
      "# 21 :\n",
      "Best Solution till this epoch is:  [8, 3, 1, 6, 8, 5, 7, 4, 1]\n",
      "# 22 :\n",
      "Best Solution till this epoch is:  [8, 3, 1, 6, 8, 5, 7, 4, 1]\n",
      "# 23 :\n",
      "Best Solution till this epoch is:  [8, 3, 1, 6, 8, 5, 7, 4, 1]\n",
      "# 24 :\n",
      "Best Solution till this epoch is:  [8, 3, 1, 6, 8, 5, 7, 4, 1]\n",
      "# 25 :\n",
      "Best Solution till this epoch is:  [8, 3, 1, 6, 8, 5, 7, 4, 1]\n",
      "# 26 :\n",
      "Best Solution till this epoch is:  [8, 3, 1, 6, 8, 5, 7, 4, 1]\n",
      "# 27 :\n",
      "Best Solution till this epoch is:  [8, 3, 1, 6, 8, 5, 7, 4, 1]\n",
      "# 28 :\n",
      "Best Solution till this epoch is:  [8, 3, 1, 6, 8, 5, 7, 4, 1]\n",
      "# 29 :\n",
      "Solution Found [7, 3, 1, 6, 8, 5, 2, 4, 0]\n"
     ]
    },
    {
     "data": {
      "image/png": "[encoded data removed]",
      "text/plain": [
       "<Figure size 432x432 with 1 Axes>"
      ]
     },
     "metadata": {
      "needs_background": "light"
     },
     "output_type": "display_data"
    }
   ],
   "source": [
    "for i in range(1,epochs+1):\n",
    "    print(\"#\",i,\":\")\n",
    "    current_generation = cross_over(current_generation)\n",
    "    current_generation = mutation(current_generation)\n",
    "    current_generation = fitness(current_generation,n,p)\n",
    "    if current_generation[0][n] == 0:\n",
    "        print(\"Solution Found\", current_generation[0])\n",
    "        showRes(current_generation[0])\n",
    "        break\n",
    "    else:\n",
    "        print(\"Best Solution till this epoch is: \", current_generation[0])"
   ]
  }
 ],
 "metadata": {
  "kernelspec": {
   "display_name": "Python 3",
   "language": "python",
   "name": "python3"
  },
  "language_info": {
   "codemirror_mode": {
    "name": "ipython",
    "version": 3
   },
   "file_extension": ".py",
   "mimetype": "text/x-python",
   "name": "python",
   "nbconvert_exporter": "python",
   "pygments_lexer": "ipython3",
   "version": "3.7.3"
  }
 },
 "nbformat": 4,
 "nbformat_minor": 2
}
