{
 "cells": [
  {
   "cell_type": "code",
   "execution_count": 1,
   "metadata": {},
   "outputs": [],
   "source": [
    "import cv2"
   ]
  },
  {
   "cell_type": "code",
   "execution_count": 2,
   "metadata": {},
   "outputs": [],
   "source": [
    "img = cv2.imread('Files/lena.jpg', 1)\n",
    "\n",
    "cv2.imshow('Image Window', img)\n",
    "\n",
    "myKey = cv2.waitKey(0)\n",
    "\n",
    "if myKey == 27:                    # 27 == ESC key\n",
    "    cv2.destroyAllWindows()\n",
    "elif myKey ==ord('s'):\n",
    "    cv2.imwrite('Files/copy_lena.png', img)\n",
    "    cv2.destroyAllWindows()\n",
    "else:\n",
    "    cv2.destroyAllWindows()\n",
    "    print(\"No Actions!\")"
   ]
  }
 ],
 "metadata": {
  "kernelspec": {
   "display_name": "Python 3",
   "language": "python",
   "name": "python3"
  },
  "language_info": {
   "codemirror_mode": {
    "name": "ipython",
    "version": 3
   },
   "file_extension": ".py",
   "mimetype": "text/x-python",
   "name": "python",
   "nbconvert_exporter": "python",
   "pygments_lexer": "ipython3",
   "version": "3.7.3"
  }
 },
 "nbformat": 4,
 "nbformat_minor": 2
}
