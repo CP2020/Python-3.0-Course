{
 "cells": [
  {
   "cell_type": "code",
   "execution_count": 10,
   "metadata": {},
   "outputs": [],
   "source": [
    "import numpy as np\n",
    "import pandas as pd"
   ]
  },
  {
   "cell_type": "code",
   "execution_count": 11,
   "metadata": {},
   "outputs": [
    {
     "name": "stdout",
     "output_type": "stream",
     "text": [
      "   Month  Avg_high  Avg_low  Record_high  Record_low  Avg_precipitation\n",
      "0    Jan        58       42           74          22               2.95\n",
      "1    Feb        61       45           78          26               3.02\n",
      "2    Mar        65       45           84          25               2.34\n",
      "3    Apr        67       50           92          28               1.02\n",
      "4    May        71       53           98          35               0.48\n",
      "5    Jun        75       56          107          41               0.11\n",
      "6   July        77       58          105          44               0.00\n",
      "7    Aug        77       59          102          43               0.03\n",
      "8    Sep        77       57          103          40               0.17\n",
      "9    Oct        73       54           96          34               0.81\n",
      "10   Nov        64       48           84          30               1.70\n",
      "11   Dec        58       42           73          21               2.56\n"
     ]
    }
   ],
   "source": [
    "df = pd.DataFrame(\n",
    "[['Jan',58,42,74,22,2.95],\n",
    " ['Feb',61,45,78,26,3.02],\n",
    " ['Mar',65,45,84,25,2.34],\n",
    " ['Apr',67,50,92,28,1.02],\n",
    " ['May',71,53,98,35,0.48],\n",
    " ['Jun',75,56,107,41,0.11],\n",
    " ['July',77,58,105,44,0.0],\n",
    " ['Aug',77,59,102,43,0.03],\n",
    " ['Sep',77,57,103,40,0.17],\n",
    " ['Oct',73,54,96,34,0.81],\n",
    " ['Nov',64,48,84,30,1.7],\n",
    " ['Dec',58,42,73,21,2.56]],\n",
    " index = [0,1,2,3,4,5,6,7,8,9,10,11],\n",
    " columns = [\"Month\",\"Avg_high\",\"Avg_low\",\"Record_high\",\"Record_low\",\"Avg_precipitation\"]\n",
    ")\n",
    "print(df)"
   ]
  }
 ],
 "metadata": {
  "kernelspec": {
   "display_name": "Python 3",
   "language": "python",
   "name": "python3"
  },
  "language_info": {
   "codemirror_mode": {
    "name": "ipython",
    "version": 3
   },
   "file_extension": ".py",
   "mimetype": "text/x-python",
   "name": "python",
   "nbconvert_exporter": "python",
   "pygments_lexer": "ipython3",
   "version": "3.7.3"
  }
 },
 "nbformat": 4,
 "nbformat_minor": 2
}
