{
 "cells": [
  {
   "cell_type": "markdown",
   "metadata": {},
   "source": [
    "# <Span style='color:blue'>More Metacharacters</span>\n",
    "<span>Some more metacharacters are <span style='color:red;'>*</span>, <span style='color:red;'>+</span>, <span style='color:red;'>?</span>, <span style='color:red;'>{</span> and <span style='color:red;'>}</span>.<br> these specify number of repetitions.<br> the metacharacter <span style='color:green;font-weight:bold;'> + </span> is very similar to *, except it means <span style='color:green;'>\"one or more repetitions\"</span>, as opposed to \"zero or more repetitions\".</span>"
   ]
  },
  {
   "cell_type": "code",
   "execution_count": 1,
   "metadata": {},
   "outputs": [],
   "source": [
    "import re"
   ]
  },
  {
   "cell_type": "code",
   "execution_count": 2,
   "metadata": {},
   "outputs": [
    {
     "name": "stdout",
     "output_type": "stream",
     "text": [
      "Match 1\n",
      "Match 2\n",
      "Match 4\n"
     ]
    }
   ],
   "source": [
    "pattern = r\"g+\"\n",
    "\n",
    "if re.search(pattern, \"g\"):\n",
    "    print(\"Match 1\")\n",
    "\n",
    "if re.search(pattern, \"ggggggggg\"):\n",
    "    print(\"Match 2\")\n",
    "    \n",
    "if re.search(pattern, \"abc\"):\n",
    "    print(\"Match 3\")\n",
    "    \n",
    "if re.search(pattern,\"bgs hello\"):\n",
    "    print(\"Match 4\")"
   ]
  }
 ],
 "metadata": {
  "kernelspec": {
   "display_name": "Python 3",
   "language": "python",
   "name": "python3"
  },
  "language_info": {
   "codemirror_mode": {
    "name": "ipython",
    "version": 3
   },
   "file_extension": ".py",
   "mimetype": "text/x-python",
   "name": "python",
   "nbconvert_exporter": "python",
   "pygments_lexer": "ipython3",
   "version": "3.7.3"
  }
 },
 "nbformat": 4,
 "nbformat_minor": 2
}
