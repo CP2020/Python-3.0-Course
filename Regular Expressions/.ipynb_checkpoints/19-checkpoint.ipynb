{
 "cells": [
  {
   "cell_type": "markdown",
   "metadata": {},
   "source": [
    "# <span style='color:blue'>Special Sequences</span><br>\n",
    "<span style='color:purple;'>More usefull special sequences are \\d, \\s and \\w.</span>\n",
    "<span style='color:purple;'>These match <b>digits</b>, <b>whitespace</b>, and <b>word characters</b> respectively.</span><br>\n",
    "<span style='color:purple;'>In ASCII mode they are equivalent to [0-9], [\\t\\n\\r\\f\\v], and [a-zA-Z0-9_].</span><br>\n",
    "<span style='color:purple;'>In Unicode mode they match certain other characters, as well. For instance, <b>\\w</b> matches letter with accents.</span><br>\n",
    "<span style='color:purple;'>Versions of these special sequences with upper case letter - <b>\\D, \\S,</b> and <b>\\W</b> - mean the opposite to the lower-case versions. For instance, <b>\\D</b> matches anything that isn't a digit.</span>"
   ]
  },
  {
   "cell_type": "code",
   "execution_count": 1,
   "metadata": {},
   "outputs": [],
   "source": [
    "import re"
   ]
  },
  {
   "cell_type": "code",
   "execution_count": null,
   "metadata": {},
   "outputs": [],
   "source": [
    "pattern = r\"(\\D+\\d)\"\n",
    "\n",
    "match = re.match(pattern, \"Hi 999\")\n",
    "\n",
    "if match:\n",
    "    print(\"Match 1\")\n",
    "    \n",
    "match = re.match(patten, \"1, 23, 456!\")\n",
    "\n",
    "if match:\n",
    "    print(\"Match 2\")\n",
    "    \n",
    "match = re.match(pattern, \"!$?\")\n",
    "\n",
    "if match:\n",
    "    print(\"Match 3\")"
   ]
  }
 ],
 "metadata": {
  "kernelspec": {
   "display_name": "Python 3",
   "language": "python",
   "name": "python3"
  },
  "language_info": {
   "codemirror_mode": {
    "name": "ipython",
    "version": 3
   },
   "file_extension": ".py",
   "mimetype": "text/x-python",
   "name": "python",
   "nbconvert_exporter": "python",
   "pygments_lexer": "ipython3",
   "version": "3.7.3"
  }
 },
 "nbformat": 4,
 "nbformat_minor": 2
}
