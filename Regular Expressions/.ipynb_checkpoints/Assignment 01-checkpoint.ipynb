{
 "cells": [
  {
   "cell_type": "markdown",
   "metadata": {},
   "source": [
    "# Assignment 01\n",
    "<br>\n",
    "<span style='color:green;'>\n",
    "<span style='font-size:22px;color:red'>You can only use 'search', 'start' and 'end' functions.</span><br>\n",
    "Write a function that takes three strings which are as follows:<br>\n",
    "    <span style='margin-left:20px;'>1- a string</span><br>\n",
    "    <span style='margin-left:20px;'>2- a filter ( a word to find )</span><br>\n",
    "    <span style='margin-left:20px;'>3- a replacement ( a word to replace with the filter)</span><br>\n",
    "and then replaces the word in filter with the replacement and returns the new string.\n",
    "\n",
    "</span>\n",
    "<br><br><br>\n",
    "<span dir='rtl' style='align:right;float:right;color:blue;font-size:1em;'>\n",
    "تابعی بنویسید که 3 ورودی به صورت زیر دریافت کند:<br>\n",
    "    <span style='margin-right:20px;'>1- یک رشته</span><br>\n",
    "    <span style='margin-right:20px;'>2- یک فیلتر (یک کلمه برای جستجو)</span><br>\n",
    "    <span style='margin-right:20px;'>3- یک جایگزین ( یک کلمه که به جای کلمه فیلتر قرار میگیرد)</span><br>\n",
    "    و سپس در رشته داده شده به دنبال فیلتر گشته و ان را با کلمه جایگزین عوض میکند و در انتها رشته جدید را برگرداند.\n",
    "</span>\n",
    "<span style='display:none;'>Copyright All Rights Reserved Ramin Saljoughinejad</span>"
   ]
  },
  {
   "cell_type": "code",
   "execution_count": 1,
   "metadata": {},
   "outputs": [],
   "source": [
    "import re"
   ]
  },
  {
   "cell_type": "code",
   "execution_count": 2,
   "metadata": {},
   "outputs": [],
   "source": [
    "def SUB(string,filter_pattern,filter_replace):\n",
    "    sent = \"\"\n",
    "    word = \"\"\n",
    "    for letter in string:\n",
    "        if letter==\" \" or letter ==\".\":\n",
    "            match = re.search(filter_pattern, word)\n",
    "            if match:\n",
    "                word = word[0:match.start()] + filter_replace\n",
    "            sent+=word + \" \"\n",
    "            word = \"\"\n",
    "        else:\n",
    "            word+=letter\n",
    "    return(sent)"
   ]
  },
  {
   "cell_type": "code",
   "execution_count": 3,
   "metadata": {},
   "outputs": [
    {
     "name": "stdout",
     "output_type": "stream",
     "text": [
      "Hello, i am Jennifer  i am Micheal's brother \n"
     ]
    }
   ],
   "source": [
    "string = \"Hello, i'm Jennifer. i'm Micheal's brother.\"\n",
    "\n",
    "\n",
    "\n",
    "string = SUB(string,r\"'m\",\" am\")\n",
    "print(string)"
   ]
  }
 ],
 "metadata": {
  "kernelspec": {
   "display_name": "Python 3",
   "language": "python",
   "name": "python3"
  },
  "language_info": {
   "codemirror_mode": {
    "name": "ipython",
    "version": 3
   },
   "file_extension": ".py",
   "mimetype": "text/x-python",
   "name": "python",
   "nbconvert_exporter": "python",
   "pygments_lexer": "ipython3",
   "version": "3.7.3"
  }
 },
 "nbformat": 4,
 "nbformat_minor": 2
}
