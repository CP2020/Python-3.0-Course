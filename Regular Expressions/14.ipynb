{
 "cells": [
  {
   "cell_type": "markdown",
   "metadata": {},
   "source": [
    "# <Span style='color:blue'>More Metacharacters</span>\n",
    "<span>Some more metacharacters are <span style='color:red;'>*</span>, <span style='color:red;'>+</span>, <span style='color:red;'>?</span>, <span style='color:red;'>{</span> and <span style='color:red;'>}</span>.<br> these specify number of repetitions.<br> <b style='color:green'>Curly braces</b> can be used to represent the number of repetitions between two numbers.<br>If the first number is missing, it is taken to be zero. if the second number is missing, it is taken to be infinity."
   ]
  },
  {
   "cell_type": "code",
   "execution_count": 1,
   "metadata": {},
   "outputs": [],
   "source": [
    "import re"
   ]
  },
  {
   "cell_type": "code",
   "execution_count": 2,
   "metadata": {},
   "outputs": [
    {
     "name": "stdout",
     "output_type": "stream",
     "text": [
      "Match 1\n",
      "Match 2\n",
      "Match 3\n",
      "Match 4\n",
      "Match 5\n"
     ]
    }
   ],
   "source": [
    "pattern = r\"9{1,3}$\"\n",
    "\n",
    "if re.search(pattern, \"9\"):\n",
    "    print(\"Match 1\")\n",
    "          \n",
    "if re.search(pattern, \"a9\"):\n",
    "    print(\"Match 2\")\n",
    "    \n",
    "if re.search(pattern, \"99\"):\n",
    "    print(\"Match 3\")\n",
    "    \n",
    "if re.search(pattern, \"999\"):\n",
    "    print(\"Match 4\")\n",
    "    \n",
    "if re.search(pattern, \"9999\"):\n",
    "    print(\"Match 5\")\n",
    "\n",
    "if re.search(pattern, \"9a\"):\n",
    "    print(\"Match 6\")"
   ]
  }
 ],
 "metadata": {
  "kernelspec": {
   "display_name": "Python 3",
   "language": "python",
   "name": "python3"
  },
  "language_info": {
   "codemirror_mode": {
    "name": "ipython",
    "version": 3
   },
   "file_extension": ".py",
   "mimetype": "text/x-python",
   "name": "python",
   "nbconvert_exporter": "python",
   "pygments_lexer": "ipython3",
   "version": "3.7.3"
  }
 },
 "nbformat": 4,
 "nbformat_minor": 2
}
